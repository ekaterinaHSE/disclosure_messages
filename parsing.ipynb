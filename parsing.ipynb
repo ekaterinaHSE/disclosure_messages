{
 "cells": [
  {
   "cell_type": "markdown",
   "id": "5ac98242",
   "metadata": {},
   "source": [
    "# Парсинг сообщений о раскрытии с e-disclosure"
   ]
  },
  {
   "cell_type": "markdown",
   "id": "d4d471ab",
   "metadata": {},
   "source": [
    "## Intro"
   ]
  },
  {
   "cell_type": "markdown",
   "id": "27f36cbf",
   "metadata": {},
   "source": [
    "Для начала необходимо импортировать все необходимые библиотеки для работы"
   ]
  },
  {
   "cell_type": "code",
   "execution_count": 1,
   "id": "14f32813",
   "metadata": {},
   "outputs": [],
   "source": [
    "import requests  # для сбора данных по url\n",
    "from bs4 import BeautifulSoup  # для получения дерева html страницы\n",
    "from selenium import webdriver  # для эмуляции работы браузера\n",
    "from selenium.webdriver.support.select import Select  # для выбора в выпадающем меню\n",
    "from tqdm.auto import tqdm  # для строки подгрузки\n",
    "import re  # для поиска и проверки правил\n",
    "import pandas as pd  # для создания таблицы и ее сохранения\n",
    "import time  # для пауз\n",
    "import warnings  # для отключения предупреждений\n",
    "# сразу выключаем все предупреждения за ненадобностью\n",
    "warnings.filterwarnings('ignore')"
   ]
  },
  {
   "cell_type": "markdown",
   "id": "364a2d5c",
   "metadata": {},
   "source": [
    "Помещаем всю изначальную информацию о задании в словарь для централизованной работы с ним и обращения в функциях только к нему. В дальнейшем изменения можно вносить только в него, чтобы, например изменить период поиска"
   ]
  },
  {
   "cell_type": "code",
   "execution_count": 2,
   "id": "efaed1e2",
   "metadata": {},
   "outputs": [],
   "source": [
    "args = {\n",
    "    'exec_path': './driver/chromedriver',\n",
    "    'user_agent': 'user-agent=Mozilla/5.0 (X11; Ubuntu; Linux x86_64, rv:84.0) Gecko/20100101 Firefox/84.0',\n",
    "    'url': 'https://e-disclosure.ru/poisk-po-soobshheniyam',\n",
    "    'query': 'Решения общих собраний участников (акционеров)',\n",
    "    'start': {'day': '1', 'month': '0', 'year': '2020'},\n",
    "    'finish': {'day': '31', 'month': '2', 'year': '2020'},\n",
    "    'tag_name': 'Решения общих собраний участников (акционеров)'\n",
    "}"
   ]
  },
  {
   "cell_type": "markdown",
   "id": "8f0f9599",
   "metadata": {},
   "source": [
    "## Первичный парсинг карточек решений собраний"
   ]
  },
  {
   "cell_type": "markdown",
   "id": "95c8e363",
   "metadata": {},
   "source": [
    "Сайт e-disclosure не позволяет забрать результаты поиска просто по url. Вероятно, это связано с AJAX, который обрабатывает поисковые запросы real-time без обновления страницы, потому переброса на новый url не происходит. Значит, просто библиотеки requests не хватит. Проще всего сэмулировать работу настоящего браузера через Selenium, прописать нажатия на нужные кнопки и ввод нужного текста в формы. Так можно получить код страницы даже при real-time обработке данных на сайте"
   ]
  },
  {
   "cell_type": "markdown",
   "id": "a7dd2236",
   "metadata": {},
   "source": [
    "Функция для выбора даты. На вход дается драйвер и словарь, содержащий начальную и конечную даты поиска"
   ]
  },
  {
   "cell_type": "code",
   "execution_count": 3,
   "id": "59e54d69",
   "metadata": {},
   "outputs": [],
   "source": [
    "def choose_date(driver, args):\n",
    "    # заходим в поле выбора даты\n",
    "    period_button = driver.find_element_by_id('selected_period').click()\n",
    "    time.sleep(2)\n",
    "    # выбираем меню начальной даты для поиска\n",
    "    start_date_button = driver.find_element_by_id('dateStart').click()\n",
    "    time.sleep(3)\n",
    "    # выбираем в выпадающем меню месяц по значению из словаря\n",
    "    start_date_select = Select(driver.find_element_by_class_name('ui-datepicker-month'))\n",
    "    start_date_select.select_by_value(args['start']['month'])\n",
    "    time.sleep(4)\n",
    "    # выбираем в выпадающем меню год\n",
    "    start_date_select = Select(driver.find_element_by_class_name('ui-datepicker-year'))\n",
    "    start_date_select.select_by_value(args['start']['year'])\n",
    "    time.sleep(3)\n",
    "    # выбираем день по тегу и кликаем\n",
    "    name = args['start']['day']\n",
    "    butt = f'[data-date=\"{name}\"]'\n",
    "    choose_date_button = driver.find_element_by_css_selector(butt).click()\n",
    "    time.sleep(2)\n",
    "    # выбираем поле конечной даты поиска\n",
    "    finish_date_button = driver.find_element_by_id('dateFinish').click()\n",
    "    time.sleep(3)\n",
    "    # выбираем месяц\n",
    "    finish_date_select = Select(driver.find_element_by_class_name('ui-datepicker-month'))\n",
    "    finish_date_select.select_by_value(args['finish']['month'])\n",
    "    time.sleep(5)\n",
    "    # выбираем год\n",
    "    finish_date_select = Select(driver.find_element_by_class_name('ui-datepicker-year'))\n",
    "    finish_date_select.select_by_value(args['finish']['year'])\n",
    "    time.sleep(4)\n",
    "    # выбираем день\n",
    "    name = args['finish']['day']\n",
    "    butt = f'[data-date=\"{name}\"]'\n",
    "    choose_date_button = driver.find_element_by_css_selector(butt).click()\n",
    "    # подтверждаем выбор даты\n",
    "    date_button = driver.find_element_by_class_name('confSelection').click()\n",
    "    time.sleep(3)\n",
    "    \n",
    "    return driver"
   ]
  },
  {
   "cell_type": "markdown",
   "id": "054c656d",
   "metadata": {},
   "source": [
    "Функция для заполнения формы поискового запроса"
   ]
  },
  {
   "cell_type": "code",
   "execution_count": 4,
   "id": "169b61fb",
   "metadata": {},
   "outputs": [],
   "source": [
    "def query(driver, args):\n",
    "    # находим поле для заполнения поискового запроса\n",
    "    query_input = driver.find_element_by_id('textfieldEvent')\n",
    "    query_input.clear()\n",
    "    # заполняем форму запросом из словаря\n",
    "    query_input.send_keys(args['query'])\n",
    "    time.sleep(3)\n",
    "    # выбираем дату для поиска\n",
    "    driver = choose_date(driver, args)\n",
    "    time.sleep(2)\n",
    "    # нажимаем кнопку поиска\n",
    "    results_button = driver.find_element_by_id('butt').click()\n",
    "    time.sleep(10)\n",
    "    # выбираем размер страницы, чтобы все результаты были на одной странице (их влезает 1200)\n",
    "    table_length_select = Select(driver.find_element_by_id('pageSize'))\n",
    "    table_length_select.select_by_visible_text('Все ')\n",
    "    time.sleep(5)\n",
    "    # берем таблицу\n",
    "    table = driver.find_element_by_id('cont_wrap')\n",
    "    time.sleep(3)\n",
    "    \n",
    "    return driver"
   ]
  },
  {
   "cell_type": "markdown",
   "id": "1c231304",
   "metadata": {},
   "source": [
    "Функция для запуска эмуляции браузера и получения кода страницы с результатами поиска"
   ]
  },
  {
   "cell_type": "code",
   "execution_count": 5,
   "id": "60ab0d3f",
   "metadata": {},
   "outputs": [],
   "source": [
    "def page_code(args):\n",
    "    # выбираем Хром\n",
    "    options = webdriver.ChromeOptions()\n",
    "    # заходим, будто нормальный пользователь через user-agent\n",
    "    options.add_argument(args['user_agent'])\n",
    "    options.headless = True\n",
    "    # запускаем браузер\n",
    "    driver = webdriver.Chrome(executable_path=args['exec_path'], options=options)\n",
    "    # переходим по ссылке для поиска\n",
    "    driver.get(args['url'])\n",
    "    time.sleep(5)\n",
    "    # выполняем поисковый запрос\n",
    "    driver = query(driver, args)\n",
    "    # извлекаем код страницы из запроса\n",
    "    bs = BeautifulSoup(driver.page_source, 'html')\n",
    "    # закрываем браузер\n",
    "    driver.close()\n",
    "    driver.quit()\n",
    "    # возвращаем код страницы\n",
    "    return bs"
   ]
  },
  {
   "cell_type": "markdown",
   "id": "46a94962",
   "metadata": {},
   "source": [
    "Функция для обработки поисковых результатов"
   ]
  },
  {
   "cell_type": "code",
   "execution_count": 6,
   "id": "71eff81f",
   "metadata": {},
   "outputs": [],
   "source": [
    "def parse_cards(bs):\n",
    "    # ищем в коде страницы поисковые результаты\n",
    "    search_results = bs.find_all('div', {'id':'cont_wrap'})\n",
    "    cards = search_results[0].find_all('tr')\n",
    "    # в этот список будем добавлять карточки для поисковых запросов\n",
    "    cards_list = []\n",
    "    # итерируемся по всем полученным результатам\n",
    "    for i in range(len(cards)):\n",
    "        x = cards[i]\n",
    "        card_parts = x.find_all('td')\n",
    "        # забираем другие атрибуты\n",
    "        properties = card_parts[1].find_all('a')\n",
    "        # название организации\n",
    "        company_name = properties[0].text\n",
    "        # страница документа\n",
    "        event_page = properties[1].get('href')\n",
    "        # название документа\n",
    "        event_name = cards[i].find_all('a')[1].text\n",
    "        # словарь из получившихся атрибутов для удобства последующей работы с ними\n",
    "        props = {\n",
    "            'event': event_name,\n",
    "            'company': company_name,\n",
    "            'event_page': event_page\n",
    "        }\n",
    "        # добавляем карточку в список\n",
    "        cards_list.append(props)\n",
    "    # возвращаем список карточек\n",
    "    return cards_list"
   ]
  },
  {
   "cell_type": "markdown",
   "id": "4c3924dd",
   "metadata": {},
   "source": [
    "Функция для фильтрации карточек по требуемым свойствам"
   ]
  },
  {
   "cell_type": "code",
   "execution_count": 7,
   "id": "656b75a3",
   "metadata": {},
   "outputs": [],
   "source": [
    "def filter_cards(cards, args):\n",
    "    # список для отфильтрованных карточек\n",
    "    filtered_cards = []\n",
    "    # итерируемся по списку всех карточек\n",
    "    for i in cards:\n",
    "        # если название документа совпадает с требуемым из словаря\n",
    "        if i['event'] == args['tag_name']:\n",
    "            # добавляем карточку в список отфильтрованных\n",
    "            filtered_cards.append(i)\n",
    "    # возвращаем список отфильтрованных карточек\n",
    "    return filtered_cards"
   ]
  },
  {
   "cell_type": "markdown",
   "id": "77b88841",
   "metadata": {},
   "source": [
    "Функция, инициализирующая все остальные, для удобства работы"
   ]
  },
  {
   "cell_type": "code",
   "execution_count": 8,
   "id": "7ba548f1",
   "metadata": {},
   "outputs": [],
   "source": [
    "def parse(args):\n",
    "    # получаем код страницы\n",
    "    source_code = page_code(args)\n",
    "    # получаем карточки поисковых результатов\n",
    "    cards = parse_cards(source_code)\n",
    "    # фильтруем карточки по нужному тегу\n",
    "    res_cards = filter_cards(cards, args)\n",
    "    # выводим результат\n",
    "    return res_cards"
   ]
  },
  {
   "cell_type": "markdown",
   "id": "b848a4d4",
   "metadata": {},
   "source": [
    "Теперь можно запускать парсер. Запускать парсер лучше не ночью, так как периодически ночью на сайте проводятся технические работы, что не дает получить карточки"
   ]
  },
  {
   "cell_type": "code",
   "execution_count": 9,
   "id": "c43ee9af",
   "metadata": {},
   "outputs": [],
   "source": [
    "# запуск Selenium'а и отбор карточек с нужными сообщениями\n",
    "cards = parse(args)"
   ]
  },
  {
   "cell_type": "markdown",
   "id": "d6a3c885",
   "metadata": {},
   "source": [
    "Теперь посмотрим на количество сообщений после фильтрации. До их было 1200 (больше сайт не позволяет подгружать за один поисковый запрос)"
   ]
  },
  {
   "cell_type": "code",
   "execution_count": 10,
   "id": "10217643",
   "metadata": {},
   "outputs": [
    {
     "data": {
      "text/plain": [
       "318"
      ]
     },
     "execution_count": 10,
     "metadata": {},
     "output_type": "execute_result"
    }
   ],
   "source": [
    "len(cards)"
   ]
  },
  {
   "cell_type": "markdown",
   "id": "69761d6d",
   "metadata": {},
   "source": [
    "Теперь их стало 318. Могло бы быть больше, но в январе организации не очень склонны к принятию управленческих решений, как оказалос, и к публикации сообщений о раскрытии"
   ]
  },
  {
   "cell_type": "markdown",
   "id": "4d81bf64",
   "metadata": {},
   "source": [
    "Проверим карточку на корректность"
   ]
  },
  {
   "cell_type": "code",
   "execution_count": 11,
   "id": "9d63ce30",
   "metadata": {
    "cell_style": "center"
   },
   "outputs": [
    {
     "data": {
      "text/plain": [
       "{'event': 'Решения общих собраний участников (акционеров)',\n",
       " 'company': 'ПАО \"Строймаш\"',\n",
       " 'event_page': 'https://e-disclosure.ru/portal/event.aspx?EventId=g-AFNEiaBwUutOscxAoe5EQ-B-B&q=0OX45e3o%2fyDu4fno9SDx7uHw4O3o6SDz9%2bDx8u3o6u7iICjg6vbo7u3l8O7iKQ%3d%3d'}"
      ]
     },
     "execution_count": 11,
     "metadata": {},
     "output_type": "execute_result"
    }
   ],
   "source": [
    "cards[0]"
   ]
  },
  {
   "cell_type": "markdown",
   "id": "0854ad64",
   "metadata": {},
   "source": [
    "Все поля заполнены (как и у других карточек), а значит, можно переходить к парсингу текстов и выделению сущностей и фактов из текстов"
   ]
  },
  {
   "cell_type": "markdown",
   "id": "ef38630e",
   "metadata": {},
   "source": [
    "## Парсинг текстов документов"
   ]
  },
  {
   "cell_type": "markdown",
   "id": "e5c19fac",
   "metadata": {},
   "source": [
    "Функция для парсинга текстов документов"
   ]
  },
  {
   "cell_type": "code",
   "execution_count": 12,
   "id": "c2bebcb7",
   "metadata": {},
   "outputs": [],
   "source": [
    "def parse_texts(lst):\n",
    "    # итерируемся по списку карточек\n",
    "    for card in tqdm(lst):\n",
    "        # достаем из карточки ссылку на сообщение\n",
    "        url = card['event_page']\n",
    "        # проходим по ссылке\n",
    "        response = requests.get(url)\n",
    "        # создаем bs4 дерево html-кода ответа\n",
    "        bs = BeautifulSoup(response.text, 'html')\n",
    "        # берем текст по тегу <div> со специальным стилем (одинаковый для любой записи на сайте)\n",
    "        text = bs.body.find_all('div', {'style': 'word-break: break-word; word-wrap: break-word; white-space: pre-wrap;'})[0].text\n",
    "        # добавляем текст в карточку\n",
    "        card['text'] = text\n",
    "        # добавляем паузу между запросами, чтобы не забанили за слишком частые обращения к серверу\n",
    "        time.sleep(1)\n",
    "    return lst"
   ]
  },
  {
   "cell_type": "markdown",
   "id": "02d701c8",
   "metadata": {},
   "source": [
    "Запускаем парсер текстов и полученный результат записываем в карточки. Занимает порядка немного больше 10 минут"
   ]
  },
  {
   "cell_type": "code",
   "execution_count": 13,
   "id": "cda4c209",
   "metadata": {},
   "outputs": [
    {
     "data": {
      "application/vnd.jupyter.widget-view+json": {
       "model_id": "9eb4090d582e43338ed72dcab47cb146",
       "version_major": 2,
       "version_minor": 0
      },
      "text/plain": [
       "  0%|          | 0/318 [00:00<?, ?it/s]"
      ]
     },
     "metadata": {},
     "output_type": "display_data"
    }
   ],
   "source": [
    "cards = parse_texts(cards)"
   ]
  },
  {
   "cell_type": "markdown",
   "id": "bad3aa65",
   "metadata": {},
   "source": [
    "Временно создадим список из текстов для упрощения работы с ними"
   ]
  },
  {
   "cell_type": "code",
   "execution_count": 14,
   "id": "3466265f",
   "metadata": {},
   "outputs": [],
   "source": [
    "texts = [cards[i]['text'] for i in range(len(cards))]"
   ]
  },
  {
   "cell_type": "markdown",
   "id": "9aacc3ef",
   "metadata": {},
   "source": [
    "## Выделение сущностей и фактов из сообщений"
   ]
  },
  {
   "cell_type": "markdown",
   "id": "75becd48",
   "metadata": {},
   "source": [
    "Далее для каждой сущности или их групп будет реализован одинаковый алгоритм действий:\n",
    "\n",
    "1) Создание вспомогательных функций (если требуются);\n",
    "\n",
    "2) Компиляция регулярных выражений для их последующего использования (для изменения шаблонов поиска достаточно изменить регулярное выражение, сам цикл поиска можно не трогать), при этом почти во всех случаях создаются регулярные выражения для индикации наличия сущности или факта (если нет, то искать саму сущность или факт не нужно) и для поиска требуемой сущности или факта (применяется только при совпадении индикаторного выражения);\n",
    "\n",
    "3) Применение регулярных выражений в цикле к каждому тексту: сначала регулярное выражение - индикатор, если он не окрасился, то искомой сущности или факта нет в сообщении, в ином случае поиск самих сущностей и фактов конкретными регулярными выражениями;\n",
    "\n",
    "4) Добавление полученных сущностей и фактов (или информации об их отсутствии) в карточку."
   ]
  },
  {
   "cell_type": "markdown",
   "id": "b4155049",
   "metadata": {},
   "source": [
    "### Избрание членов совета директоров"
   ]
  },
  {
   "cell_type": "markdown",
   "id": "53ed41f4",
   "metadata": {},
   "source": [
    "Функция для множественной отсутствия определенных строк в искомой с объединением конъюнкцией"
   ]
  },
  {
   "cell_type": "code",
   "execution_count": 15,
   "id": "e04f79b5",
   "metadata": {},
   "outputs": [],
   "source": [
    "def logic_and_not(lst, obj):\n",
    "    # инициализация флага\n",
    "    flag = True\n",
    "    # итерируемся по всем строкам для проверки\n",
    "    for i in lst:\n",
    "        # если строка содержится в исходном объекте\n",
    "        if i in obj:\n",
    "            # # флаг меняется на Ложь\n",
    "            flag = False\n",
    "            # и выходим, дальше проверять смысла нет (Ложь Λ Истина = Ложь)\n",
    "            return flag\n",
    "    # если не было раннего выхода, выводим флаг с Истиной\n",
    "    return flag"
   ]
  },
  {
   "cell_type": "code",
   "execution_count": 16,
   "id": "8394d98c",
   "metadata": {},
   "outputs": [],
   "source": [
    "# регулярка-индикатор наличия информации об избрании членов совета директоров\n",
    "director_re = re.compile('[Ии]збрат\\D{,30}[Сс]ове\\w*[ ]*[Дд]ирект\\w*')\n",
    "# регулярка для поиска полных ФИО\n",
    "fio_re = re.compile('[А-ЯЁ][а-яё]+\\s+[А-ЯЁ][а-яё]+(?:\\s+[А-ЯЁ][а-яё]+)?')\n",
    "# регулярка для поиска ФИО с инициалами\n",
    "initials_re = re.compile('[А-ЯЁ][а-яё]+\\s+[А-ЯЁ]\\D[А-ЯЁ]\\D')"
   ]
  },
  {
   "cell_type": "code",
   "execution_count": 17,
   "id": "a6ea0606",
   "metadata": {},
   "outputs": [
    {
     "data": {
      "application/vnd.jupyter.widget-view+json": {
       "model_id": "08738d246b8249818b8d79563000aa06",
       "version_major": 2,
       "version_minor": 0
      },
      "text/plain": [
       "  0%|          | 0/318 [00:00<?, ?it/s]"
      ]
     },
     "metadata": {},
     "output_type": "display_data"
    }
   ],
   "source": [
    "# в цикле идем по сообщениям\n",
    "for i in tqdm(range(len(texts))):\n",
    "    # для упрощения (и сокращения кода) присваиваем переменной конкретное сообщение\n",
    "    t = texts[i]\n",
    "    # если регулярка-индикатор показала наличие информации об избрании членов совета директоров\n",
    "    if director_re.search(t) != None:\n",
    "        # отмечаем конец совпадения паттерна из регулярки и текста\n",
    "        end_point = director_re.search(t).end()\n",
    "        # обрезаем текст (берем подстроку) по концу паттерна\n",
    "        sub = t[end_point:]\n",
    "        # в цикле пока не будет соблюдается условие выхода (пока паттерн регулярки-индикатора присутствует в тексте)\n",
    "        while True:\n",
    "            # снова ищем паттерн по регулярке-индикатору\n",
    "            res = director_re.search(sub)\n",
    "            # если паттерн окрасился\n",
    "            if res != None:\n",
    "                # снова выделяем конец паттерна\n",
    "                end_point = director_re.search(sub).end()\n",
    "                # обрезаем по концу и в начало\n",
    "                sub = sub[end_point:]\n",
    "            # как только индикатор перестал краситься берем последнюю подстроку, содержавшую его и выходим из цикла\n",
    "            else:\n",
    "                break\n",
    "        # создаем пустой список для членов совета директоров\n",
    "        directors = []\n",
    "        # специальная переменная для поиска первого вхождения паттерна регулярки\n",
    "        iteration = 0\n",
    "        # снова в цикле пока хотя бы одна регулярка для поиска сущностей подходит\n",
    "        while True:\n",
    "            # пробуем искать полное ФИО\n",
    "            d = fio_re.search(sub)\n",
    "            # сразу пробуем искать ФИО с инициалами\n",
    "            l = initials_re.search(sub)\n",
    "            # проверяем наличие полного ФИО и, что паттерн не начинается с Банк\n",
    "            # если в паттерн попал Банк России, то полных ФИО нет и регулярка ищет хоть что-нибудь подходящее\n",
    "            if d != None and not sub[d.start():d.end()].startswith('Банк'):\n",
    "                # если расстояние между началом строки и началом совпадения паттерна меньше 100 символов\n",
    "                # или для первого вхождения просто ищем само вхождение без этого фильтра\n",
    "                # ФИО должны располагаться подряд (поэтому 100 символов), кроме первого вхлждения\n",
    "                if d.start() < 100 or not iteration:\n",
    "                    # выделяем подстроку с ФИО\n",
    "                    name = sub[d.start():d.end()]\n",
    "                    # проверяем, что по ошибке регулярка не нашла служебные слова вместо ФИО\n",
    "                    # так бывает из-за того, что паттерн ищет по заглавным буквам\n",
    "                    if logic_and_not(['збра', '\\n', 'овет', 'редсед', 'роти', 'осси', 'евизо', 'рупп'], name):\n",
    "                        # редко, но Общества пишут с заглавной и тогда паттерн совпадает, нужно убрать это слово\n",
    "                        if 'Общества' in name:\n",
    "                            directors.append(name[9:])\n",
    "                        # в остальных случаях добавляем в список всю подстроку\n",
    "                        else:\n",
    "                            directors.append(name)\n",
    "                    # отрезаем от подстроки по последнему символу ФИО\n",
    "                    sub = sub[d.end():]\n",
    "                    # увеличиваем счетчик итераций\n",
    "                    iteration += 1\n",
    "                # иначе выходим\n",
    "                else:\n",
    "                    break\n",
    "            # если совпал паттерн для ФИО с инициалами, значит и остальные оформлены также\n",
    "            elif l != None:\n",
    "                # проверяем на отдаленность от начала подстроки\n",
    "                # особого условия для 1 вхождения не нужно\n",
    "                if l.start() < 100:\n",
    "                    # имя по началу и концу совпадения паттерна регулярки с подстрокой\n",
    "                    name = sub[l.start():l.end()]\n",
    "                    # проверка наличия в них стоп-строк и служебных символов\n",
    "                    if 'збра' not in name and '\\n' not in name:\n",
    "                        # добавляем ФИО в список\n",
    "                        directors.append(name)\n",
    "                    # обрезаем подстроку по последнему символу ФИО\n",
    "                    sub = sub[l.end():]\n",
    "                else:\n",
    "                    break\n",
    "            # если ни одна из регулярок не совпала, значит списка с ФИО не было\n",
    "            else:\n",
    "                break\n",
    "    # если индикатор не окрасился, значит вопрос не поднимался\n",
    "    else:\n",
    "        directors = 'вопрос не поднимался'\n",
    "    # если список пуст или является строкой, указываем, что вопрос не поднимался\n",
    "    if len(directors) == 0 or isinstance(directors, str):\n",
    "        directors = 'вопрос не поднимался'\n",
    "    # в ином случае объединяем через запятую ФИО в единую строку для корректного отображения\n",
    "    else:\n",
    "        directors = ', '.join(directors)\n",
    "    # добавляем в карточку получившуюся строку\n",
    "    cards[i]['directors_list'] = directors.strip()"
   ]
  },
  {
   "cell_type": "markdown",
   "id": "6f157b9b",
   "metadata": {},
   "source": [
    "### Утверждение аудитора"
   ]
  },
  {
   "cell_type": "code",
   "execution_count": 18,
   "id": "fb3f617f",
   "metadata": {},
   "outputs": [],
   "source": [
    "# регулярка-индикатор наличия информации об утверждении аудитора\n",
    "auditor_re = re.compile('[Уу]твер\\D*[Аа]удито\\w*\\s')\n",
    "# регулярка для поиска наименования аудитора в кавычках\n",
    "firm_re = re.compile('«\\D{,40}»')\n",
    "# регулярка для дефолтных кавычек\n",
    "other_firm_re = re.compile('\"\\D{,40}\"')\n",
    "# регулярка для \"английских\" кавычек\n",
    "one_more_firm_re = re.compile('“\\D{,40}”')\n",
    "# регулярка для поиска ИНН\n",
    "inn_re = re.compile('ИНН\\D*[\\d]{10}')\n",
    "# регулярка для альтернативного поиска типов отчетности (из 3 вида всего, умещаются в 2 регулярки с условием ИЛИ)\n",
    "documents_re = re.compile('бухгал\\w*\\D*отчетност\\w{,10}|консолид\\w*\\D{,30}отчетност\\w{,10}')"
   ]
  },
  {
   "cell_type": "code",
   "execution_count": 19,
   "id": "d50d63e9",
   "metadata": {},
   "outputs": [
    {
     "data": {
      "application/vnd.jupyter.widget-view+json": {
       "model_id": "81dddb8472f34535be49d7238f64b610",
       "version_major": 2,
       "version_minor": 0
      },
      "text/plain": [
       "  0%|          | 0/318 [00:00<?, ?it/s]"
      ]
     },
     "metadata": {},
     "output_type": "display_data"
    }
   ],
   "source": [
    "# в цикле по сообщениям\n",
    "for i in tqdm(range(len(texts))):\n",
    "    t = texts[i]\n",
    "    # инициализация подстроки\n",
    "    sub = ''\n",
    "    # ИНН\n",
    "    inn = 'не указан'\n",
    "    # типа отчетности\n",
    "    documents = 'не указан'\n",
    "    # если регулярка-индикатор утверждения аудитора совпала\n",
    "    if auditor_re.search(t) != None:\n",
    "        # в цикле ищем конечную подстроку, содержащую регулярку-индикатор\n",
    "        end_point = auditor_re.search(t).end()\n",
    "        sub = t[end_point:]\n",
    "        while True:\n",
    "            res = auditor_re.search(sub)\n",
    "            if res != None:\n",
    "                end_point = auditor_re.search(sub).end()\n",
    "                start_point = auditor_re.search(sub).start()\n",
    "                # если фирма есть в подстроке и совпадение не начинается с ЗА (тоже в кавычках обычно)\n",
    "                if firm_re.search(sub) != None and 'за' in sub[firm_re.search(sub).end():]:\n",
    "                    # делаем аккуратное обрезание подстроки по началу паттерна\n",
    "                    sub = sub[start_point+1:]\n",
    "                # иначе обрезаем по концу\n",
    "                else:\n",
    "                    sub = sub[end_point:]\n",
    "            # выходим из цикла с последней содержащей паттерн подстрокой\n",
    "            else:\n",
    "                break\n",
    "        # динициализация аудитора булеаном\n",
    "        auditor = False\n",
    "        # в итговой подстроке ищем ИНН (он редко указывается)\n",
    "        if inn_re.search(sub) != None:\n",
    "            # выделяем построку с ИНН\n",
    "            inn = sub[inn_re.search(sub).start():inn_re.search(sub).end()]\n",
    "            # обрезаем, чтобы остались только 10 цифр\n",
    "            inn = inn[-10:-1]\n",
    "        # ищем тип отчетности\n",
    "        if documents_re.search(sub) != None:\n",
    "            # выделяем подстроку с типом отчетности\n",
    "            documents = sub[documents_re.search(sub).start():documents_re.search(sub).end()]\n",
    "        # переменные для поиска наименьшего паттерна\n",
    "        # заведомо недостижимое количество символов\n",
    "        min_pattern_start = 1e6\n",
    "        min_pattern = ''\n",
    "        # для всех паттернов\n",
    "        for pattern in [firm_re, other_firm_re, one_more_firm_re]:\n",
    "            # ищем совпадения с подстрокой\n",
    "            pattern_fit = pattern.search(sub)\n",
    "            # если было совпадение\n",
    "            if pattern_fit != None:\n",
    "                # сравниваем с минимумом\n",
    "                if pattern_fit.start() < min_pattern_start:\n",
    "                    # обновляем минимум\n",
    "                    min_pattern_start = pattern_fit.start()\n",
    "                    # сохраняем минимальный паттерн\n",
    "                    min_pattern = pattern\n",
    "        # если хотя бы один из паттернов прошел поиск минимума\n",
    "        if min_pattern != '':\n",
    "            # применяем его\n",
    "            a = min_pattern.search(sub)\n",
    "            # выделяем подстроку с аудитором\n",
    "            auditor = sub[a.start():a.end()]\n",
    "            # если наименование содержится внутри получившейся подстроки\n",
    "            if firm_re.search(auditor[1:]) != None:\n",
    "                # выделяем по паттерну наименование\n",
    "                f = firm_re.search(auditor[1:])\n",
    "                auditor = auditor[f.start():f.end()]\n",
    "            # если наименование в других кавычках\n",
    "            elif other_firm_re.search(auditor[1:]) != None:\n",
    "                f = other_firm_re.search(auditor[1:])\n",
    "                auditor = auditor[f.start():f.end()]\n",
    "        else:\n",
    "            # в 75 и 134 записях аудитора не назначали из-за недостатка финансов, но вопрос поднимался\n",
    "            # будем считать, что не поднимался, но здесь можно присвоить и другое значение\n",
    "            auditor = 'вопрос не поднимался'\n",
    "    else:\n",
    "        auditor = 'вопрос не поднимался'\n",
    "    # добавляем в карточки получившиеся значения\n",
    "    cards[i]['auditor'] = auditor.strip()\n",
    "    cards[i]['auditor_inn'] = inn.strip()\n",
    "    cards[i]['auditor_documents'] = documents.strip()"
   ]
  },
  {
   "cell_type": "markdown",
   "id": "d900bb20",
   "metadata": {},
   "source": [
    "### Выплата дивидендов"
   ]
  },
  {
   "cell_type": "code",
   "execution_count": 20,
   "id": "3b1b8ddc",
   "metadata": {},
   "outputs": [],
   "source": [
    "# регулярка-индикатор затрагивания вопроса выплаты дивидендов\n",
    "dividents_re = re.compile('\\w*пла[\\D\\d]{,50}див\\w*')\n",
    "# регулярка-индикатор для не выплачивания дивидендов\n",
    "no_dividents_re = re.compile('дивид\\w*[\\D\\d]{,50}не\\D*пла')"
   ]
  },
  {
   "cell_type": "code",
   "execution_count": 21,
   "id": "7570130a",
   "metadata": {},
   "outputs": [
    {
     "data": {
      "application/vnd.jupyter.widget-view+json": {
       "model_id": "7afa81af15ba4cb880296fc74068342f",
       "version_major": 2,
       "version_minor": 0
      },
      "text/plain": [
       "  0%|          | 0/318 [00:00<?, ?it/s]"
      ]
     },
     "metadata": {},
     "output_type": "display_data"
    }
   ],
   "source": [
    "# в цикле по сообщениям\n",
    "for i in tqdm(range(len(texts))):\n",
    "    # инициализируем переменную\n",
    "    dividents = 'не указано'\n",
    "    t = texts[i]\n",
    "    # проверяем совпал ли паттерн затрагивания вопроса\n",
    "    if dividents_re.search(t) != None:\n",
    "        # если совпал паттерн не выплаты дивидендов\n",
    "        if no_dividents_re.search(t) != None:\n",
    "            dividents = 'принято решение не выплачивать дивиденды'\n",
    "        # иначе выплата была\n",
    "        else:\n",
    "            dividents = 'принято решение выплатить дивиденды'\n",
    "    # иначе вопрос не поднимался\n",
    "    else:\n",
    "        dividents = 'вопрос не поднимался'\n",
    "    # обновляем карточки\n",
    "    cards[i]['dividents'] = dividents.strip()"
   ]
  },
  {
   "cell_type": "markdown",
   "id": "15602b87",
   "metadata": {},
   "source": [
    "### Дата и форма собрания"
   ]
  },
  {
   "cell_type": "code",
   "execution_count": 22,
   "id": "ffcae38e",
   "metadata": {},
   "outputs": [],
   "source": [
    "# регулярка-индикатор места с датой (ее отсутствие не подразумевается)\n",
    "# альтернативно либо в п. 1.8 есть дата, либо в отдельном пункте с датой\n",
    "date_re = re.compile('1[.]8\\D*[Дд]ата[\\D\\d]{,110}|[Дд]ата\\D*провед[\\D\\d]{,150}')\n",
    "# регулярка для поиска полной даты (14 февраля 2020)\n",
    "full_date_re = re.compile('\\d{1,2}[ ]\\w*[ ]\\d{1,4}')\n",
    "# регулярка для поиска сокращенной даты (14.02.2020)\n",
    "short_date_re = re.compile('\\d{1,2}\\S\\d{1,2}\\S\\d{1,4}')\n",
    "# регулярка для поиска даты с кавычками («14» февраля 2020)\n",
    "mid_date_re = re.compile('«\\d{1,2}»\\s\\w*\\s\\d{1,4}')"
   ]
  },
  {
   "cell_type": "code",
   "execution_count": 23,
   "id": "759eabe1",
   "metadata": {},
   "outputs": [
    {
     "data": {
      "application/vnd.jupyter.widget-view+json": {
       "model_id": "4c422950a6484b1b83bc95a39c3776bc",
       "version_major": 2,
       "version_minor": 0
      },
      "text/plain": [
       "  0%|          | 0/318 [00:00<?, ?it/s]"
      ]
     },
     "metadata": {},
     "output_type": "display_data"
    }
   ],
   "source": [
    "# в цикле по сообщениям\n",
    "for i in tqdm(range(len(texts))):\n",
    "    # инициализация даты\n",
    "    date = 'не указано'\n",
    "    t = texts[i]\n",
    "    # если индикатор нашелся (по другому и не может быть, дата есть всегда, поэтому нет else)\n",
    "    if date_re.search(t) != None:\n",
    "        # находим подстроку с датой по паттерну\n",
    "        date = t[date_re.search(t).start():date_re.search(t).end()]\n",
    "        # обрезаем слово Дата\n",
    "        date = date[5:]\n",
    "        # ищем в каком формате дата по совпадению регулярок\n",
    "        if mid_date_re.search(date) != None:\n",
    "            date = date[mid_date_re.search(date).start():mid_date_re.search(date).end()]\n",
    "        elif full_date_re.search(date) != None:\n",
    "            date = date[full_date_re.search(date).start():full_date_re.search(date).end()]\n",
    "        elif short_date_re.search(date) != None:\n",
    "            date = date[short_date_re.search(date).start():short_date_re.search(date).end()]\n",
    "    # если дата с кавычками\n",
    "    if date.startswith('«'):\n",
    "        # убираем их\n",
    "        date = date[1:3] + date[4:]\n",
    "    # если месяц написан словами\n",
    "    if date[3].isalpha():\n",
    "        # меняем слова на цифры\n",
    "        date = date.replace(' февраля ', '.02.')\n",
    "        date = date.replace(' марта ', '.03.')\n",
    "        # есть одна зпись, опубликованная в 2020 году, но с сообщением за июнь 2015 года\n",
    "        date = date.replace(' июня ', '.06.')\n",
    "    # обновляем карточки\n",
    "    cards[i]['event_date'] = date.strip()"
   ]
  },
  {
   "cell_type": "code",
   "execution_count": 24,
   "id": "a868f5a8",
   "metadata": {},
   "outputs": [],
   "source": [
    "# регулярка-индикатор формы собрания\n",
    "form_re = re.compile('[Фф]орма\\Dпров\\D*')\n",
    "# регулярка заочного голосования\n",
    "distant_form_re = re.compile('заоч[\\D]*голос[\\D]*')"
   ]
  },
  {
   "cell_type": "code",
   "execution_count": 25,
   "id": "ac70e6cc",
   "metadata": {},
   "outputs": [
    {
     "data": {
      "application/vnd.jupyter.widget-view+json": {
       "model_id": "4c0b260274ec4006ae177c9c38e35a0e",
       "version_major": 2,
       "version_minor": 0
      },
      "text/plain": [
       "  0%|          | 0/318 [00:00<?, ?it/s]"
      ]
     },
     "metadata": {},
     "output_type": "display_data"
    }
   ],
   "source": [
    "# в цикле по текстам\n",
    "for i in tqdm(range(len(texts))):\n",
    "    # в некоторых случаях форма не указана\n",
    "    # записи 41-45 - это продолжения сообщения 46 банка, форма указана только в 46 сообщении\n",
    "    # сообщение 225 продолжает 226-е, форма указана только в 226\n",
    "    # в 67 нет формы вообще (как и в 256, и 316), в 205 указан только вид - внеочередное\n",
    "    form = 'не указано'\n",
    "    t = texts[i]\n",
    "    # если индикатор нашелся (как указано, он может и не найтись)\n",
    "    if form_re.search(t) != None:\n",
    "        # выделяем подстроку с формой собрания\n",
    "        form = t[form_re.search(t).start():form_re.search(t).end()]\n",
    "        # сплит по двоеточию, если есть\n",
    "        if ':' in form:\n",
    "            form = form.split(':')[1]\n",
    "        # поиск совпадений с регуляркой для заочной формы\n",
    "        if distant_form_re.search(t) != None:\n",
    "            form = 'заочное голосование'\n",
    "        # иначе\n",
    "        else:\n",
    "            form = 'собрание (совместное присутствие)'\n",
    "    # обновляем карточки\n",
    "    cards[i]['event_form'] = form.strip()"
   ]
  },
  {
   "cell_type": "markdown",
   "id": "fbae5c4d",
   "metadata": {},
   "source": [
    "### Адрес, ИНН, ОГРН эмитента"
   ]
  },
  {
   "cell_type": "code",
   "execution_count": 26,
   "id": "28918a96",
   "metadata": {},
   "outputs": [],
   "source": [
    "# регулярка-индикатор начала адреса\n",
    "place_start_re = re.compile('[Мм]есто[ ]нахождения[ ]эмитента')\n",
    "# регулярка-индикатор конца адреса\n",
    "place_end_re = re.compile('1\\D4\\D')"
   ]
  },
  {
   "cell_type": "code",
   "execution_count": 27,
   "id": "cd402333",
   "metadata": {},
   "outputs": [
    {
     "data": {
      "application/vnd.jupyter.widget-view+json": {
       "model_id": "f2f131d7a9fe4be5b5816ad99b0bf0df",
       "version_major": 2,
       "version_minor": 0
      },
      "text/plain": [
       "  0%|          | 0/318 [00:00<?, ?it/s]"
      ]
     },
     "metadata": {},
     "output_type": "display_data"
    }
   ],
   "source": [
    "# в цикле по текстам\n",
    "for i in tqdm(range(len(texts))):\n",
    "    # инициализация адреса\n",
    "    place = 'не указана'\n",
    "    t = texts[i]\n",
    "    # если индикатор нашелся\n",
    "    if place_start_re.search(t) != None:\n",
    "        # обрезаем подстроку по началу адреса\n",
    "        place = t[place_start_re.search(t).end() + 1:]\n",
    "        # если нашелся конце\n",
    "        if place_end_re.search(place) != None:\n",
    "            # обрезаем по концу адреса\n",
    "            place = place[:place_end_re.search(place).end() - 4]\n",
    "    # добавляем адрес в карточку\n",
    "    cards[i]['place'] = place.strip()"
   ]
  },
  {
   "cell_type": "code",
   "execution_count": 28,
   "id": "1ef91499",
   "metadata": {},
   "outputs": [],
   "source": [
    "# регулярка-индикатор начала ОГРН\n",
    "ogrn_start_re = re.compile('ОГРН\\D*')\n",
    "# регулярка-индикатор конца ОГРН\n",
    "ogrn_end_re = re.compile('1\\D5\\D')\n",
    "# регулярка для поиска цифр ОГРН\n",
    "ogrn_re = re.compile('\\d{13}')"
   ]
  },
  {
   "cell_type": "code",
   "execution_count": 29,
   "id": "569d3499",
   "metadata": {},
   "outputs": [
    {
     "data": {
      "application/vnd.jupyter.widget-view+json": {
       "model_id": "200c8d1317c64d4cbeb6d0f8d002dae0",
       "version_major": 2,
       "version_minor": 0
      },
      "text/plain": [
       "  0%|          | 0/318 [00:00<?, ?it/s]"
      ]
     },
     "metadata": {},
     "output_type": "display_data"
    }
   ],
   "source": [
    "# в цикле по сообщениям\n",
    "for i in tqdm(range(len(texts))):\n",
    "    # инициализация ОГРН\n",
    "    ogrn = 'не указан'\n",
    "    t = texts[i]\n",
    "    # если указан\n",
    "    if ogrn_start_re.search(t) != None:\n",
    "        # обрезаем после вхождения индикатора\n",
    "        ogrn = t[ogrn_start_re.search(t).end():]\n",
    "        # если найден конце для ОГРН\n",
    "        if ogrn_end_re.search(ogrn) != None:\n",
    "            # обрезаем по концу\n",
    "            ogrn = ogrn[:ogrn_end_re.search(ogrn).end() - 4]\n",
    "        # если сам ОГРН найден\n",
    "        if ogrn_re.search(ogrn) != None:\n",
    "            # находим 13 цифр ОГРН\n",
    "            ogrn = ogrn[ogrn_re.search(ogrn).start():ogrn_re.search(ogrn).end()]\n",
    "    # добавляем ОГРН в карточку\n",
    "    cards[i]['ogrn'] = ogrn.strip()"
   ]
  },
  {
   "cell_type": "code",
   "execution_count": 30,
   "id": "985fbac2",
   "metadata": {},
   "outputs": [],
   "source": [
    "# регулярка-индикатор начала ИНН\n",
    "inn_start_re = re.compile('ИНН\\D*')\n",
    "# регулярка-индикатор конца ИНН\n",
    "inn_end_re = re.compile('1\\D6\\D')\n",
    "# регулярка для поиска цифр ИНН\n",
    "inn_re = re.compile('\\d{10}')"
   ]
  },
  {
   "cell_type": "code",
   "execution_count": 31,
   "id": "4d415d5a",
   "metadata": {},
   "outputs": [
    {
     "data": {
      "application/vnd.jupyter.widget-view+json": {
       "model_id": "4a249b4683c24077b88d5a8d82359545",
       "version_major": 2,
       "version_minor": 0
      },
      "text/plain": [
       "  0%|          | 0/318 [00:00<?, ?it/s]"
      ]
     },
     "metadata": {},
     "output_type": "display_data"
    }
   ],
   "source": [
    "# в цикле по текстам\n",
    "for i in tqdm(range(len(texts))):\n",
    "    # инициализация ИНН\n",
    "    inn = 'не указан'\n",
    "    t = texts[i]\n",
    "    # если нашлось начало строки с ИНН\n",
    "    if inn_start_re.search(t) != None:\n",
    "        # обрезаем текст по началу паттерна\n",
    "        inn = t[inn_start_re.search(t).end():]\n",
    "        # если нашелся конец строки с ИНН\n",
    "        if inn_end_re.search(inn) != None:\n",
    "            # обрезаем по концу вхождения паттерна\n",
    "            inn = inn[:inn_end_re.search(inn).end() - 4]\n",
    "        # проверяем наличие самого ИНН\n",
    "        if inn_re.search(inn) != None:\n",
    "            # выделяем эти 10 цифр\n",
    "            inn = inn[inn_re.search(inn).start():inn_re.search(inn).end()]\n",
    "    # добавляем ИНН в карточку\n",
    "    cards[i]['inn'] = inn.strip()"
   ]
  },
  {
   "cell_type": "markdown",
   "id": "8696ee72",
   "metadata": {},
   "source": [
    "### Полное и сокращенное наименование"
   ]
  },
  {
   "cell_type": "code",
   "execution_count": 32,
   "id": "8b33f504",
   "metadata": {},
   "outputs": [],
   "source": [
    "# регулярка для строки с полным наименованием фирмы\n",
    "full_name_re = re.compile('[Пп]олное[ ]\\D*')"
   ]
  },
  {
   "cell_type": "code",
   "execution_count": 33,
   "id": "541aabc4",
   "metadata": {},
   "outputs": [
    {
     "data": {
      "application/vnd.jupyter.widget-view+json": {
       "model_id": "ed669eac805c452b86019b73ec92d982",
       "version_major": 2,
       "version_minor": 0
      },
      "text/plain": [
       "  0%|          | 0/318 [00:00<?, ?it/s]"
      ]
     },
     "metadata": {},
     "output_type": "display_data"
    }
   ],
   "source": [
    "# в цикле по сообщениям\n",
    "for i in tqdm(range(len(texts))):\n",
    "    # инициализация полного наименования\n",
    "    full_name = 'не указан'\n",
    "    t = texts[i]\n",
    "    # если строка с наименованием нашлась (она точно есть в п. 1.1)\n",
    "    if full_name_re.search(t) != None:\n",
    "        # обрезаем по этой строке\n",
    "        full_name = t[full_name_re.search(t).start():full_name_re.search(t).end()].strip()\n",
    "    # сплит по двоеточию, если есть\n",
    "    if ':' in full_name:\n",
    "        full_name = full_name.split(':')[1]\n",
    "    # иначе - сплит по табуляции, если есть\n",
    "    elif '\\t' in full_name:\n",
    "        full_name = full_name.split('\\t')[1]\n",
    "    # иначе - сплит по переносу строки, если есть\n",
    "    elif '\\n' in full_name:\n",
    "        full_name = full_name.split('\\n')[1]\n",
    "    # иначе - сплит по закрывающей скобке, если есть\n",
    "    elif '(' in full_name and ')' in full_name:\n",
    "        full_name = full_name.split(')')[1]\n",
    "    # обновляем карточки\n",
    "    cards[i]['full_name'] = full_name.strip()"
   ]
  },
  {
   "cell_type": "code",
   "execution_count": 34,
   "id": "8d25a50d",
   "metadata": {},
   "outputs": [],
   "source": [
    "# регулярка для строки с сокращенным наименованием фирмы\n",
    "short_name_re = re.compile('[Сс]окращенное[ ]\\D*')"
   ]
  },
  {
   "cell_type": "code",
   "execution_count": 35,
   "id": "901091b1",
   "metadata": {},
   "outputs": [
    {
     "data": {
      "application/vnd.jupyter.widget-view+json": {
       "model_id": "7f7fa4458e494eacbcfdb17048305ec8",
       "version_major": 2,
       "version_minor": 0
      },
      "text/plain": [
       "  0%|          | 0/318 [00:00<?, ?it/s]"
      ]
     },
     "metadata": {},
     "output_type": "display_data"
    }
   ],
   "source": [
    "# в цикле по сообщениям\n",
    "for i in tqdm(range(len(texts))):\n",
    "    # инициализация сокращенного наименования\n",
    "    short_name = 'не указан'\n",
    "    t = texts[i]\n",
    "    # если строка с наименованием найдена\n",
    "    if short_name_re.search(t) != None:\n",
    "        # обрезаем строку по паттерну\n",
    "        short_name = t[short_name_re.search(t).start():short_name_re.search(t).end()].strip()\n",
    "    # сплит по двоеточию, если есть\n",
    "    if ':' in short_name:\n",
    "        short_name = short_name.split(':')[1]\n",
    "    # иначе - сплит по табуляции, если есть\n",
    "    elif '\\t' in short_name:\n",
    "        short_name = short_name.split('\\t')[1]\n",
    "    # иначе - сплит по переносу строки, если есть\n",
    "    elif '\\n' in short_name:\n",
    "        short_name = short_name.split('\\n')[1]\n",
    "    # иначе - сплит по закрывающей скобке, если есть\n",
    "    elif '(' in short_name and ')' in short_name:\n",
    "        short_name = short_name.split(')')[1]\n",
    "    # обновляем карточки\n",
    "    cards[i]['short_name'] = short_name.strip()"
   ]
  },
  {
   "cell_type": "markdown",
   "id": "2ac6ed7d",
   "metadata": {},
   "source": [
    "## Сводная таблица"
   ]
  },
  {
   "cell_type": "markdown",
   "id": "9569b1c8",
   "metadata": {},
   "source": [
    "Из полученных карточек можно создать датафрейм, который может быть сохранен в виде таблицы Excel"
   ]
  },
  {
   "cell_type": "code",
   "execution_count": 36,
   "id": "3b40d2ab",
   "metadata": {},
   "outputs": [],
   "source": [
    "# создаем датафрейм\n",
    "data = pd.DataFrame(cards)"
   ]
  },
  {
   "cell_type": "code",
   "execution_count": 37,
   "id": "3effea19",
   "metadata": {},
   "outputs": [],
   "source": [
    "# переназываем колонки по-русски\n",
    "data = data.rename(columns={\n",
    "    'event': 'Название события',\n",
    "    'company': 'Организация',\n",
    "    'event_page': 'Страница сообщения',\n",
    "    'text': 'Текст сообщения',\n",
    "    'directors_list': 'Список совета директоров',\n",
    "    'auditor': 'Наименование аудиторской организации',\n",
    "    'auditor_inn': 'ИНН аудиторской организации',\n",
    "    'auditor_documents': 'Тип проверяемой аудитором отчетности',\n",
    "    'dividents': 'Решение о выплате дивидендов',\n",
    "    'event_date': 'Дата события',\n",
    "    'event_form': 'Форма события',\n",
    "    'place': 'Адрес организации',\n",
    "    'ogrn': 'ОГРН организации',\n",
    "    'inn': 'ИНН организации',\n",
    "    'full_name': 'Полное наименование организации',\n",
    "    'short_name': 'Сокращенное наименование организации'\n",
    "})"
   ]
  },
  {
   "cell_type": "code",
   "execution_count": 38,
   "id": "36c7a10e",
   "metadata": {},
   "outputs": [],
   "source": [
    "# сохраняем результат в формате xlsx для нормального открытия в MS Excel\n",
    "data.to_excel('Таблица сообщений.xlsx', index=False)"
   ]
  },
  {
   "cell_type": "markdown",
   "id": "31794bde",
   "metadata": {},
   "source": [
    "## Итоги"
   ]
  },
  {
   "cell_type": "markdown",
   "id": "2d41e4c9",
   "metadata": {},
   "source": [
    "Работа над заданием проходила в 4 этапа.\n",
    "\n",
    "__Первый этап:__ парсинг сообщений о раскрытии. Наиболее сложным оказалось преодоление проблемы отсутствия прямой ссылки на результаты поисковой выдачи. Сайт подгружает поисковые запросы динамически без обновления ссылки. В качестве решения была использована библиотека *Selenium*, позволяющая эмулировать работу полноценного браузера через Python. Таким образом был воспроизведен порядок действий, начиная с захода на сайт, заканчивая получением кода страницы поисковой выдачи. Было запрограммировано каждое действие в браузере. После получения кода страницы были получены карточки поисковой выдачи (1200 штук), затем они были отфильтрованы по названию.\n",
    "\n",
    "__Второй этап:__ парсинг текстов сообщений о раскрытии. Каждая карточка содержит ссылку на страницу с самим сообщением о раскрытии. Проходом по каждой ссылке быи полученым тексты сообщений, временно сохраненные в отдельный список.\n",
    "\n",
    "__Третий этап:__ выделение сущностей и фактов из сообщений о раскрытии. Для каждой из выделяемых сущностей были подобраны регулярные выражения, которые в цикле по сообщениям применялись к текстам сообщений. Результаты поиска добавлялись в карточки. Использование решулярных выражений позволило уйти от создания групп правил, не треяя в производительности и скорости. При этом сами регулярные выражения представляют из себя группы паттернов, что соответствует rule-based подходу, но возволяет более гибко находить требуемые сущности, не проверяя каждое слово в обоих регистрах. Регулярные выражения оказались очень мощным инструментом. Теоретически, можно подобрать такие выражения, которые однозначно находят требуемую информацию, но это чрезвычайно трудно.\n",
    "\n",
    "__Четвертый этап:__ создание сводной таблицы из получившихся карточек. Сохранение этой таблицы в формате xlsx. "
   ]
  }
 ],
 "metadata": {
  "kernelspec": {
   "display_name": "Python 3 (ipykernel)",
   "language": "python",
   "name": "python3"
  },
  "language_info": {
   "codemirror_mode": {
    "name": "ipython",
    "version": 3
   },
   "file_extension": ".py",
   "mimetype": "text/x-python",
   "name": "python",
   "nbconvert_exporter": "python",
   "pygments_lexer": "ipython3",
   "version": "3.8.6"
  }
 },
 "nbformat": 4,
 "nbformat_minor": 5
}
